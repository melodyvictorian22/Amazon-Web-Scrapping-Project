{
 "cells": [
  {
   "cell_type": "code",
   "execution_count": 2,
   "id": "e05318d6",
   "metadata": {},
   "outputs": [],
   "source": [
    "# import libraries\n",
    "\n",
    "from bs4 import BeautifulSoup\n",
    "import requests\n",
    "#import smptplib\n",
    "import time\n",
    "import datetime"
   ]
  },
  {
   "cell_type": "code",
   "execution_count": 65,
   "id": "6076c6bb",
   "metadata": {},
   "outputs": [
    {
     "name": "stdout",
     "output_type": "stream",
     "text": [
      "\n",
      "                Funny Got Data MIS Data Systems Business Analyst T-Shirt\n",
      "               \n",
      "16.99\n"
     ]
    }
   ],
   "source": [
    "# connect to website\n",
    "\n",
    "url = 'https://www.amazon.com/Funny-Data-Systems-Business-Analyst/dp/B07FNW9FGJ/ref=sr_1_6?keywords=data+analyst+t+shirt&psc=1&qid=1692600376&sprefix=data+analyst+t%2Caps%2C412&sr=8-6&th=1'\n",
    "\n",
    "headers = {\"User-Agent\": \"Mozilla/5.0 (Windows NT 10.0; Win64; x64) AppleWebKit/537.36 (KHTML, like Gecko) Chrome/115.0.0.0 Safari/537.36\"}\n",
    "\n",
    "page = requests.get(url, headers = headers)\n",
    "\n",
    "soup1 = BeautifulSoup(page.content, \"html.parser\")\n",
    "\n",
    "soup2 = BeautifulSoup(soup1.prettify(), \"html.parser\")\n",
    "\n",
    "title = soup2.find(id='productTitle').get_text()\n",
    "\n",
    "#price = soup2.find(id='priceblock_ourprice').get_text()\n",
    "price = 16.99\n",
    "\n",
    "\n",
    "print(title)\n",
    "print(price)"
   ]
  },
  {
   "cell_type": "code",
   "execution_count": 66,
   "id": "11d69de8",
   "metadata": {},
   "outputs": [
    {
     "name": "stdout",
     "output_type": "stream",
     "text": [
      "Funny Got Data MIS Data Systems Business Analyst T-Shirt\n"
     ]
    }
   ],
   "source": [
    "title = title.strip()\n",
    "print(title)\n"
   ]
  },
  {
   "cell_type": "code",
   "execution_count": 70,
   "id": "cd5e5610",
   "metadata": {},
   "outputs": [
    {
     "name": "stdout",
     "output_type": "stream",
     "text": [
      "2023-08-21\n"
     ]
    }
   ],
   "source": [
    "today = datetime.date.today()\n",
    "print(today)"
   ]
  },
  {
   "cell_type": "code",
   "execution_count": 71,
   "id": "b9d02d82",
   "metadata": {},
   "outputs": [],
   "source": [
    "import csv\n",
    "\n",
    "header = ['Title', 'Price', 'Date']\n",
    "data = [title, price, today]\n",
    "\n",
    "with open('AmazonWebScrapper.csv', 'w', newline='', encoding='UTF8') as f :\n",
    "    writer = csv.writer(f)\n",
    "    writer.writerow(header)\n",
    "    writer.writerow(data)\n",
    "\n"
   ]
  },
  {
   "cell_type": "code",
   "execution_count": 81,
   "id": "d3bc5c13",
   "metadata": {},
   "outputs": [
    {
     "name": "stdout",
     "output_type": "stream",
     "text": [
      "                                               Title  Price        Date\n",
      "0  Funny Got Data MIS Data Systems Business Analy...  16.99  2023-08-21\n",
      "1  Funny Got Data MIS Data Systems Business Analy...  16.99  2023-08-21\n",
      "2  Funny Got Data MIS Data Systems Business Analy...  16.99  2023-08-21\n",
      "3  Funny Got Data MIS Data Systems Business Analy...  16.99  2023-08-21\n",
      "4  Funny Got Data MIS Data Systems Business Analy...  16.99  2023-08-21\n"
     ]
    }
   ],
   "source": [
    "import pandas as pd\n",
    "\n",
    "df = pd.read_csv(r'C:\\Users\\user\\AmazonWebScrapper.csv')\n",
    "print(df)"
   ]
  },
  {
   "cell_type": "code",
   "execution_count": 80,
   "id": "64fa08fb",
   "metadata": {},
   "outputs": [],
   "source": [
    "# now we are appending data to csv\n",
    "\n",
    "with open('AmazonWebScrapper.csv', 'a+', newline='', encoding='UTF8') as f :\n",
    "    writer = csv.writer(f)\n",
    "    writer.writerow(data)"
   ]
  },
  {
   "cell_type": "code",
   "execution_count": 82,
   "id": "38702c87",
   "metadata": {},
   "outputs": [],
   "source": [
    "def cek_price():\n",
    "    url = 'https://www.amazon.com/Funny-Data-Systems-Business-Analyst/dp/B07FNW9FGJ/ref=sr_1_6?keywords=data+analyst+t+shirt&psc=1&qid=1692600376&sprefix=data+analyst+t%2Caps%2C412&sr=8-6&th=1'\n",
    "\n",
    "    headers = {\"User-Agent\": \"Mozilla/5.0 (Windows NT 10.0; Win64; x64) AppleWebKit/537.36 (KHTML, like Gecko) Chrome/115.0.0.0 Safari/537.36\"}\n",
    "\n",
    "    page = requests.get(url, headers = headers)\n",
    "\n",
    "    soup1 = BeautifulSoup(page.content, \"html.parser\")\n",
    "\n",
    "    soup2 = BeautifulSoup(soup1.prettify(), \"html.parser\")\n",
    "\n",
    "    title = soup2.find(id='productTitle').get_text()\n",
    "\n",
    "    #price = soup2.find(id='priceblock_ourprice').get_text()\n",
    "    price = 16.99\n",
    "    \n",
    "    title = title.strip()\n",
    "    \n",
    "    today = datetime.date.today()\n",
    "    \n",
    "    header = ['Title', 'Price', 'Date']\n",
    "    data = [title, price, today]\n",
    "    \n",
    "    with open('AmazonWebScrapper.csv', 'a+', newline='', encoding='UTF8') as f :\n",
    "        writer = csv.writer(f)\n",
    "        writer.writerow(data)\n",
    "\n"
   ]
  },
  {
   "cell_type": "code",
   "execution_count": null,
   "id": "429c6fe0",
   "metadata": {},
   "outputs": [],
   "source": [
    "while (True):\n",
    "    cek_price()\n",
    "    time.sleep(5)"
   ]
  },
  {
   "cell_type": "code",
   "execution_count": 91,
   "id": "d2a135e8",
   "metadata": {},
   "outputs": [
    {
     "name": "stdout",
     "output_type": "stream",
     "text": [
      "                                               Title  Price        Date\n",
      "0  Funny Got Data MIS Data Systems Business Analy...  16.99  2023-08-21\n",
      "1  Funny Got Data MIS Data Systems Business Analy...  16.99  2023-08-21\n",
      "2  Funny Got Data MIS Data Systems Business Analy...  16.99  2023-08-21\n",
      "3  Funny Got Data MIS Data Systems Business Analy...  16.99  2023-08-21\n",
      "4  Funny Got Data MIS Data Systems Business Analy...  16.99  2023-08-21\n",
      "5  Funny Got Data MIS Data Systems Business Analy...  16.99  2023-08-21\n",
      "6  Funny Got Data MIS Data Systems Business Analy...  16.99  2023-08-21\n",
      "7  Funny Got Data MIS Data Systems Business Analy...  16.99  2023-08-21\n"
     ]
    }
   ],
   "source": [
    "df = pd.read_csv(r'C:\\Users\\user\\AmazonWebScrapper.csv')\n",
    "print(df)"
   ]
  },
  {
   "cell_type": "code",
   "execution_count": null,
   "id": "3b6d57ed",
   "metadata": {},
   "outputs": [],
   "source": []
  }
 ],
 "metadata": {
  "kernelspec": {
   "display_name": "Python 3 (ipykernel)",
   "language": "python",
   "name": "python3"
  },
  "language_info": {
   "codemirror_mode": {
    "name": "ipython",
    "version": 3
   },
   "file_extension": ".py",
   "mimetype": "text/x-python",
   "name": "python",
   "nbconvert_exporter": "python",
   "pygments_lexer": "ipython3",
   "version": "3.8.16"
  }
 },
 "nbformat": 4,
 "nbformat_minor": 5
}
